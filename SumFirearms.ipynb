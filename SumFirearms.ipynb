{
 "cells": [
  {
   "cell_type": "code",
   "execution_count": 1,
   "metadata": {},
   "outputs": [],
   "source": [
    "from pprint import pprint\n",
    "from state_codes import states_hash, states_fips_hash\n",
    "\n",
    "import pandas as pd\n",
    "\n",
    "# pprint(states_hash)"
   ]
  },
  {
   "cell_type": "code",
   "execution_count": 24,
   "metadata": {},
   "outputs": [
    {
     "data": {
      "text/html": [
       "<div>\n",
       "<style scoped>\n",
       "    .dataframe tbody tr th:only-of-type {\n",
       "        vertical-align: middle;\n",
       "    }\n",
       "\n",
       "    .dataframe tbody tr th {\n",
       "        vertical-align: top;\n",
       "    }\n",
       "\n",
       "    .dataframe thead th {\n",
       "        text-align: right;\n",
       "    }\n",
       "</style>\n",
       "<table border=\"1\" class=\"dataframe\">\n",
       "  <thead>\n",
       "    <tr style=\"text-align: right;\">\n",
       "      <th></th>\n",
       "      <th>Lic Cnty</th>\n",
       "      <th>License Name</th>\n",
       "      <th>Mail State</th>\n",
       "    </tr>\n",
       "  </thead>\n",
       "  <tbody>\n",
       "    <tr>\n",
       "      <th>0</th>\n",
       "      <td>003</td>\n",
       "      <td>HERNANDEZ-MUNOZ, GILBERTO</td>\n",
       "      <td>PR</td>\n",
       "    </tr>\n",
       "    <tr>\n",
       "      <th>1</th>\n",
       "      <td>003</td>\n",
       "      <td>AGUADA ARMORY SHOOTING AND RENTAL CORP</td>\n",
       "      <td>PR</td>\n",
       "    </tr>\n",
       "    <tr>\n",
       "      <th>2</th>\n",
       "      <td>003</td>\n",
       "      <td>SALAZAR MORET, CHARLES</td>\n",
       "      <td>PR</td>\n",
       "    </tr>\n",
       "    <tr>\n",
       "      <th>3</th>\n",
       "      <td>005</td>\n",
       "      <td>CARDONA-VALENTIN, VIRGINIA</td>\n",
       "      <td>PR</td>\n",
       "    </tr>\n",
       "    <tr>\n",
       "      <th>4</th>\n",
       "      <td>013</td>\n",
       "      <td>GUTIERREZ-MARTINEZ, ORLANDO</td>\n",
       "      <td>PR</td>\n",
       "    </tr>\n",
       "  </tbody>\n",
       "</table>\n",
       "</div>"
      ],
      "text/plain": [
       "  Lic Cnty                            License Name Mail State\n",
       "0      003               HERNANDEZ-MUNOZ, GILBERTO         PR\n",
       "1      003  AGUADA ARMORY SHOOTING AND RENTAL CORP         PR\n",
       "2      003                  SALAZAR MORET, CHARLES         PR\n",
       "3      005              CARDONA-VALENTIN, VIRGINIA         PR\n",
       "4      013             GUTIERREZ-MARTINEZ, ORLANDO         PR"
      ]
     },
     "execution_count": 24,
     "metadata": {},
     "output_type": "execute_result"
    }
   ],
   "source": [
    "path_csv = 'firearms_listings.csv'\n",
    "df = pd.read_csv(path_csv, converters={'Lic Cnty': lambda x: str(x)}) #make sure to import county number as string so leading 0s preserved\n",
    "df = df.dropna(subset=['Mail State'])\n",
    "df.head()"
   ]
  },
  {
   "cell_type": "code",
   "execution_count": 32,
   "metadata": {},
   "outputs": [
    {
     "data": {
      "text/html": [
       "<div>\n",
       "<style scoped>\n",
       "    .dataframe tbody tr th:only-of-type {\n",
       "        vertical-align: middle;\n",
       "    }\n",
       "\n",
       "    .dataframe tbody tr th {\n",
       "        vertical-align: top;\n",
       "    }\n",
       "\n",
       "    .dataframe thead th {\n",
       "        text-align: right;\n",
       "    }\n",
       "</style>\n",
       "<table border=\"1\" class=\"dataframe\">\n",
       "  <thead>\n",
       "    <tr style=\"text-align: right;\">\n",
       "      <th></th>\n",
       "      <th>Lic Cnty</th>\n",
       "      <th>License Name</th>\n",
       "      <th>Mail State</th>\n",
       "      <th>County Code</th>\n",
       "    </tr>\n",
       "  </thead>\n",
       "  <tbody>\n",
       "    <tr>\n",
       "      <th>0</th>\n",
       "      <td>003</td>\n",
       "      <td>HERNANDEZ-MUNOZ, GILBERTO</td>\n",
       "      <td>PR</td>\n",
       "      <td>72003</td>\n",
       "    </tr>\n",
       "    <tr>\n",
       "      <th>1</th>\n",
       "      <td>003</td>\n",
       "      <td>AGUADA ARMORY SHOOTING AND RENTAL CORP</td>\n",
       "      <td>PR</td>\n",
       "      <td>72003</td>\n",
       "    </tr>\n",
       "    <tr>\n",
       "      <th>2</th>\n",
       "      <td>003</td>\n",
       "      <td>SALAZAR MORET, CHARLES</td>\n",
       "      <td>PR</td>\n",
       "      <td>72003</td>\n",
       "    </tr>\n",
       "    <tr>\n",
       "      <th>3</th>\n",
       "      <td>005</td>\n",
       "      <td>CARDONA-VALENTIN, VIRGINIA</td>\n",
       "      <td>PR</td>\n",
       "      <td>72005</td>\n",
       "    </tr>\n",
       "    <tr>\n",
       "      <th>4</th>\n",
       "      <td>013</td>\n",
       "      <td>GUTIERREZ-MARTINEZ, ORLANDO</td>\n",
       "      <td>PR</td>\n",
       "      <td>72013</td>\n",
       "    </tr>\n",
       "  </tbody>\n",
       "</table>\n",
       "</div>"
      ],
      "text/plain": [
       "  Lic Cnty                            License Name Mail State County Code\n",
       "0      003               HERNANDEZ-MUNOZ, GILBERTO         PR       72003\n",
       "1      003  AGUADA ARMORY SHOOTING AND RENTAL CORP         PR       72003\n",
       "2      003                  SALAZAR MORET, CHARLES         PR       72003\n",
       "3      005              CARDONA-VALENTIN, VIRGINIA         PR       72005\n",
       "4      013             GUTIERREZ-MARTINEZ, ORLANDO         PR       72013"
      ]
     },
     "execution_count": 32,
     "metadata": {},
     "output_type": "execute_result"
    }
   ],
   "source": [
    "full_state_names = [states_hash[i] for i in list(df['Mail State'].values)]\n",
    "state_codes = [states_fips_hash[i] for i in full_state_names]\n",
    "county_codes = [state_codes[i] + str(df['Lic Cnty'].values[i]) for i in range(len(state_codes))]\n",
    "county_codes = [code.lstrip('0') for code in county_codes]\n",
    "df['County Code'] = county_codes\n",
    "df.head()"
   ]
  },
  {
   "cell_type": "code",
   "execution_count": 33,
   "metadata": {},
   "outputs": [
    {
     "data": {
      "text/plain": [
       "County Code\n",
       "10001    18\n",
       "10003    51\n",
       "10005    68\n",
       "1001     21\n",
       "10011     1\n",
       "Name: Lic Cnty, dtype: int64"
      ]
     },
     "execution_count": 33,
     "metadata": {},
     "output_type": "execute_result"
    }
   ],
   "source": [
    "dealer_counts = df.groupby('County Code').count()\n",
    "dealer_counts = dealer_counts.pop('Lic Cnty')\n",
    "# dealer_counts = dealer_counts.rename(columns = {'Lic Cnty': 'Gun Seller Count'})\n",
    "dealer_counts = dealer_counts.sort_index()\n",
    "dealer_counts.head()\n",
    "# print(len(dealer_counts))"
   ]
  },
  {
   "cell_type": "code",
   "execution_count": 34,
   "metadata": {},
   "outputs": [
    {
     "data": {
      "text/plain": [
       "24"
      ]
     },
     "execution_count": 34,
     "metadata": {},
     "output_type": "execute_result"
    }
   ],
   "source": [
    "# number of gun dealers in Yolo County\n",
    "dealer_counts.loc['6113']"
   ]
  },
  {
   "cell_type": "code",
   "execution_count": 35,
   "metadata": {},
   "outputs": [],
   "source": [
    "dealer_counts.to_csv('gun_seller_counts.csv', header=True)"
   ]
  },
  {
   "cell_type": "code",
   "execution_count": null,
   "metadata": {},
   "outputs": [],
   "source": []
  },
  {
   "cell_type": "code",
   "execution_count": null,
   "metadata": {},
   "outputs": [],
   "source": []
  }
 ],
 "metadata": {
  "kernelspec": {
   "display_name": "Python 3",
   "language": "python",
   "name": "python3"
  },
  "language_info": {
   "codemirror_mode": {
    "name": "ipython",
    "version": 3
   },
   "file_extension": ".py",
   "mimetype": "text/x-python",
   "name": "python",
   "nbconvert_exporter": "python",
   "pygments_lexer": "ipython3",
   "version": "3.6.8"
  }
 },
 "nbformat": 4,
 "nbformat_minor": 2
}
